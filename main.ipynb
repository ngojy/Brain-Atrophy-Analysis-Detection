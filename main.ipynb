{
 "cells": [
  {
   "cell_type": "code",
   "execution_count": null,
   "metadata": {},
   "outputs": [],
   "source": [
    "# libraries\n",
    "import numpy as np\n",
    "import torch\n",
    "import torch.nn.functional as F\n",
    "import cv2\n",
    "import time\n",
    "import matplotlib.pyplot as plt\n",
    "from sklearn.metrics import recall_score, f1_score\n"
   ]
  },
  {
   "cell_type": "code",
   "execution_count": null,
   "metadata": {},
   "outputs": [],
   "source": [
    "# device use CUDA\n",
    "device = torch.device(\"cuda:0\" if torch.cuda.is_available() else \"cpu\")\n",
    "print(device)\n",
    "\n",
    "# hyperparameters\n",
    "random_seed = 1\n",
    "learning_rate = 0.001\n",
    "num_epochs = 100\n",
    "batch_size = 256\n",
    "\n",
    "# architecture\n",
    "num_classes = 2\n"
   ]
  },
  {
   "cell_type": "code",
   "execution_count": null,
   "metadata": {},
   "outputs": [],
   "source": [
    "# import ADNI dataset\n"
   ]
  },
  {
   "cell_type": "code",
   "execution_count": null,
   "metadata": {},
   "outputs": [],
   "source": [
    "# split data into X and y with split of 70/30\n",
    "train_dataset = ?\n",
    "test_dataset = ?\n",
    "train_loader = DataLoader(dataset=train_dataset, batch_size=batch_size,  shuffle=True)\n",
    "test_loader = DataLoader(dataset=test_dataset,  batch_size=batch_size,  shuffle=False)\n"
   ]
  },
  {
   "cell_type": "code",
   "execution_count": null,
   "metadata": {},
   "outputs": [],
   "source": [
    "# check dataset\n",
    "for images, labels in train_loader:  \n",
    "    print('Image batch dimensions:', images.shape)\n",
    "    print('Image label dimensions:', labels.shape)\n",
    "    break"
   ]
  },
  {
   "cell_type": "code",
   "execution_count": null,
   "metadata": {},
   "outputs": [],
   "source": [
    "# visualizing neuroimages\n"
   ]
  },
  {
   "cell_type": "code",
   "execution_count": null,
   "metadata": {},
   "outputs": [],
   "source": [
    "# pre-processing neuroimages\n"
   ]
  },
  {
   "cell_type": "code",
   "execution_count": null,
   "metadata": {},
   "outputs": [],
   "source": [
    "# CNN model\n",
    "class CNN_model(torch.nn.Module):\n",
    "    def __init__(self, num_classes):\n",
    "        super(CNN_model, self).__init__()\n",
    "\n",
    "        self.conv_1 = torch.nn.Conv2d(in_channels=3, out_channels=16, kernel_size=5, stride=1, padding=0)\n",
    "\n",
    "        self.maxpool_1 = torch.nn.MaxPool2d(2, 2)\n",
    "\n",
    "\n",
    "        self.conv_2 = torch.nn.Conv2d(in_channels=16, out_channels=32, kernel_size=5, stride=1, padding=0) \n",
    "\n",
    "        self.maxpool_2 = torch.nn.MaxPool2d(2, 2)\n",
    "\n",
    "\n",
    "        self.conv_3 = torch.nn.Conv2d(in_channels=32, out_channels=64, kernel_size=5, stride=1, padding=0) \n",
    "\n",
    "        self.maxpool_3 = torch.nn.MaxPool2d(2, 2)\n",
    "\n",
    "\n",
    "        self.conv_4 = torch.nn.Conv2d(in_channels=64, out_channels=128, kernel_size=5, stride=1, padding=0) \n",
    "\n",
    "        self.maxpool_4 = torch.nn.MaxPool2d(2, 2)\n",
    "\n",
    "\n",
    "        self.fc1 = torch.nn.Linear(?, 1024)\n",
    "\n",
    "        self.fc2 = torch.nn.Linear(1024, num_classes)\n",
    "\n",
    "    def forward(self, x):\n",
    "        out = F.relu(self.conv_1(x))\n",
    "        out = self.maxpool_1(out)\n",
    "\n",
    "        out = F.relu(self.conv_2(x))\n",
    "        out = self.maxpool_2(out)\n",
    "\n",
    "        out = F.relu(self.conv_3(x))\n",
    "        out = self.maxpool_3(out)\n",
    "\n",
    "        out = F.relu(self.conv_4(x))\n",
    "        out = self.maxpool_4(out)\n",
    "\n",
    "        out = out.view(-1, ?)\n",
    "        out = F.relu(self.fc1(out))\n",
    "        out = self.fc2(out)\n",
    "\n",
    "        return out\n",
    "        "
   ]
  },
  {
   "cell_type": "code",
   "execution_count": null,
   "metadata": {},
   "outputs": [],
   "source": [
    "# training CNN model\n",
    "torch.manual_seed(random_seed)\n",
    "\n",
    "model = CNN_model(num_classes=num_classes).to(device)\n",
    "\n",
    "optimizer = torch.optim.Adam(model.parameters(), lr=learning_rate)\n",
    "\n",
    "criterion = torch.nn.CrossEntropyLoss()\n",
    "\n",
    "start_time = time.time()\n",
    "\n",
    "for epoch in range(num_epochs):\n",
    "    model.train()\n",
    "    running_loss = 0.0\n",
    "\n",
    "    for batch_idx, (features, targets) in enumerate(train_loader):\n",
    "        features, targets = features.to(device), targets.to(device)\n",
    "\n",
    "        optimizer.zero_grad()\n",
    "        \n",
    "        outputs = model(features)\n",
    "\n",
    "        loss = criterion(outputs, targets)\n",
    "        loss.backward()\n",
    "        optimizer.step()\n",
    "\n",
    "        running_loss += loss.item()\n",
    "        if batch_idx % 100 == 99:\n",
    "            print('[%d, %5d] loss: %.3f' % (epoch + 1, batch_idx + 1, running_loss / 100))\n",
    "            running_loss = 0.0\n",
    "\n",
    "print('CNN Training Finished')"
   ]
  },
  {
   "cell_type": "code",
   "execution_count": null,
   "metadata": {},
   "outputs": [],
   "source": [
    "# compute accuracy of model\n",
    "def compute_accuracy(model, data_loader):\n",
    "    correct=0\n",
    "    total=0\n",
    "\n",
    "    for batch_idx, (features, targets) in enumerate(data_loader):\n",
    "        features, targets = features.to(device), targets.to(device)\n",
    "\n",
    "        outputs = model(features)\n",
    "        _, predicted = torch.max(outputs, 1)\n",
    "\n",
    "        correct += (predicted == targets).sum().item()\n",
    "        total += targets.size(0)\n",
    "    acc = correct/total\n",
    "    acc = 100 * acc\n",
    "    return acc"
   ]
  },
  {
   "cell_type": "code",
   "execution_count": null,
   "metadata": {},
   "outputs": [],
   "source": [
    "# compute sensitivity\n",
    "def compute_sensitivity(model, data_loader):\n",
    "    truePositive=0\n",
    "    falseNegative=0\n",
    "\n",
    "    for batch_idx, (features, targets) in enumerate(data_loader):\n",
    "        features, targets = features.to(device), targets.to(device)\n",
    "\n",
    "        outputs = model(features)\n",
    "        _, predicted = torch.max(outputs, 1)\n",
    "\n",
    "        truePositive += ((predicted == 1) & (targets == 1)).sum().item()\n",
    "        falseNegative += ((predicted == 0) & (targets == 1)).sum().item()\n",
    "\n",
    "        sens = truePositive / (truePositive + falseNegative)\n",
    "\n",
    "        return sens"
   ]
  },
  {
   "cell_type": "code",
   "execution_count": null,
   "metadata": {},
   "outputs": [],
   "source": [
    "# compute specificity\n",
    "def compute_specificity(model, data_loader):\n",
    "    trueNegative=0\n",
    "    falsePositive=0\n",
    "\n",
    "    for batch_idx, (features, targets) in enumerate(data_loader):\n",
    "        features, targets = features.to(device), targets.to(device)\n",
    "\n",
    "        outputs = model(features)\n",
    "        _, predicted = torch.max(outputs, 1)\n",
    "\n",
    "        trueNegative += ((predicted == 0) & (targets == 0)).sum().item()\n",
    "        falsePositive += ((predicted == 1) & (targets == 0)).sum().item()\n",
    "\n",
    "        spec = trueNegative / (trueNegative + falsePositive)\n",
    "\n",
    "        return spec"
   ]
  },
  {
   "cell_type": "code",
   "execution_count": null,
   "metadata": {},
   "outputs": [],
   "source": [
    "# compute f1-score\n",
    "def compute_f1_score(model, data_loader):\n",
    "\n",
    "    return 0"
   ]
  },
  {
   "cell_type": "code",
   "execution_count": null,
   "metadata": {},
   "outputs": [],
   "source": [
    "print('Test accuracy: %.2f%%' % (compute_accuracy(model, test_loader)))\n",
    "print('Test sensitivity: %.2f%%' % (compute_sensitivity(model, test_loader)))\n",
    "print('Test specificity: %.2f%%' % (compute_specificity(model, test_loader)))\n",
    "print('Test f1-score: %.2f%%' % (compute_f1_score(model, test_loader)))"
   ]
  }
 ],
 "metadata": {
  "kernelspec": {
   "display_name": "mvis_env",
   "language": "python",
   "name": "python3"
  },
  "language_info": {
   "codemirror_mode": {
    "name": "ipython",
    "version": 3
   },
   "file_extension": ".py",
   "mimetype": "text/x-python",
   "name": "python",
   "nbconvert_exporter": "python",
   "pygments_lexer": "ipython3",
   "version": "3.13.2"
  }
 },
 "nbformat": 4,
 "nbformat_minor": 2
}
